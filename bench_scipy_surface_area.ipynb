{
 "cells": [
  {
   "cell_type": "code",
   "execution_count": 1,
   "metadata": {},
   "outputs": [
    {
     "data": {
      "text/plain": [
       "'1.0.0.dev0+2eab40c'"
      ]
     },
     "execution_count": 1,
     "metadata": {},
     "output_type": "execute_result"
    }
   ],
   "source": [
    "import scipy\n",
    "import numpy as np\n",
    "from scipy.spatial._polygon_surface_area import poly_area\n",
    "scipy.__version__"
   ]
  },
  {
   "cell_type": "code",
   "execution_count": 2,
   "metadata": {
    "collapsed": true
   },
   "outputs": [],
   "source": [
    "# use simple triangle for initial benchmarks\n",
    "tri_vertices = np.array([[0,0,0],\n",
    "                         [2,0,0],\n",
    "                         [1,1,0]],\n",
    "                        dtype=np.float64)"
   ]
  },
  {
   "cell_type": "code",
   "execution_count": 3,
   "metadata": {},
   "outputs": [
    {
     "name": "stdout",
     "output_type": "stream",
     "text": [
      "The slowest run took 8.92 times longer than the fastest. This could mean that an intermediate result is being cached.\n",
      "100000 loops, best of 3: 10.9 µs per loop\n"
     ]
    }
   ],
   "source": [
    "# benchmark pure Python planar polygon surface area code\n",
    "%timeit poly_area(vertices=tri_vertices, cython=None)"
   ]
  },
  {
   "cell_type": "code",
   "execution_count": 4,
   "metadata": {},
   "outputs": [
    {
     "name": "stdout",
     "output_type": "stream",
     "text": [
      "The slowest run took 8.42 times longer than the fastest. This could mean that an intermediate result is being cached.\n",
      "100000 loops, best of 3: 8.55 µs per loop\n"
     ]
    }
   ],
   "source": [
    "# benchmark Cython planar polygon surface area code\n",
    "%timeit poly_area(vertices=tri_vertices, cython=1)"
   ]
  },
  {
   "cell_type": "code",
   "execution_count": 5,
   "metadata": {},
   "outputs": [],
   "source": [
    "# use simple spherical triangel for initial spherical polygon area benchmarks\n",
    "sphere_tri_vertices = np.array([[-1,0,0],\n",
    "                                [1,0,0],\n",
    "                                [0,0,1]],\n",
    "                                dtype=np.float64)"
   ]
  },
  {
   "cell_type": "code",
   "execution_count": 6,
   "metadata": {},
   "outputs": [
    {
     "name": "stdout",
     "output_type": "stream",
     "text": [
      "The slowest run took 5.75 times longer than the fastest. This could mean that an intermediate result is being cached.\n",
      "100000 loops, best of 3: 17 µs per loop\n"
     ]
    }
   ],
   "source": [
    "# benchmark pure Python spherical polyon SA code\n",
    "%timeit poly_area(vertices=sphere_tri_vertices, cython=None, radius=1.0)"
   ]
  },
  {
   "cell_type": "code",
   "execution_count": 9,
   "metadata": {},
   "outputs": [
    {
     "name": "stdout",
     "output_type": "stream",
     "text": [
      "The slowest run took 4.45 times longer than the fastest. This could mean that an intermediate result is being cached.\n",
      "10000 loops, best of 3: 21.3 µs per loop\n"
     ]
    }
   ],
   "source": [
    "# benchmark Cython spherical polyon SA code\n",
    "%timeit poly_area(vertices=sphere_tri_vertices, cython=1, radius=1.0)"
   ]
  }
 ],
 "metadata": {
  "kernelspec": {
   "display_name": "Python 2",
   "language": "python",
   "name": "python2"
  },
  "language_info": {
   "codemirror_mode": {
    "name": "ipython",
    "version": 2
   },
   "file_extension": ".py",
   "mimetype": "text/x-python",
   "name": "python",
   "nbconvert_exporter": "python",
   "pygments_lexer": "ipython2",
   "version": "2.7.13"
  }
 },
 "nbformat": 4,
 "nbformat_minor": 2
}
